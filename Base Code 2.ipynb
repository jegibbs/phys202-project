{
 "cells": [
  {
   "cell_type": "code",
   "execution_count": 24,
   "metadata": {
    "collapsed": true
   },
   "outputs": [],
   "source": [
    "from sklearn.datasets import load_digits\n",
    "digits = load_digits()\n",
    "X_train = digits.images[0:1347]\n",
    "y_train = digits.target[0:1347]\n"
   ]
  },
  {
   "cell_type": "code",
   "execution_count": 48,
   "metadata": {
    "collapsed": false
   },
   "outputs": [
    {
     "name": "stderr",
     "output_type": "stream",
     "text": [
      "WARNING:sknn:  - Reshaping input array from (1347, 8, 8) to (1347, 8, 8, 1).\n"
     ]
    },
    {
     "data": {
      "text/plain": [
       "Classifier(batch_size=1, debug=False, dropout_rate=None, f_stable=0.001,\n",
       "      hidden0=<sknn.nn.Convolution `Rectifier`: pool_shape=(1, 1), name='hidden0', kernel_stride=(1, 1), channels=8, border_mode='valid', kernel_shape=(3, 3)>,\n",
       "      layers=[<sknn.nn.Convolution `Rectifier`: pool_shape=(1, 1), name='hidden0', kernel_stride=(1, 1), channels=8, border_mode='valid', kernel_shape=(3, 3)>, <sknn.nn.Layer `Softmax`: units=10, name='output'>],\n",
       "      learning_momentum=0.9, learning_rate=0.02, learning_rule='sgd',\n",
       "      loss_type='mse', n_iter=60, n_stable=50,\n",
       "      output=<sknn.nn.Layer `Softmax`: units=10, name='output'>,\n",
       "      random_state=None, regularize=None, valid_set=None, valid_size=0.0,\n",
       "      verbose=None, weight_decay=None)"
      ]
     },
     "execution_count": 48,
     "metadata": {},
     "output_type": "execute_result"
    }
   ],
   "source": [
    "from sknn.mlp import Classifier, Convolution, Layer\n",
    "\n",
    "nn = Classifier(\n",
    "    layers=[\n",
    "        Convolution(\"Rectifier\", channels=8, kernel_shape=(3,3)),\n",
    "        Layer(\"Softmax\")],\n",
    "    learning_rate=0.02,\n",
    "    n_iter=60)\n",
    "nn.fit(X_train, y_train)"
   ]
  },
  {
   "cell_type": "code",
   "execution_count": 49,
   "metadata": {
    "collapsed": false
   },
   "outputs": [
    {
     "data": {
      "text/plain": [
       "0.85300668151447656"
      ]
     },
     "execution_count": 49,
     "metadata": {},
     "output_type": "execute_result"
    }
   ],
   "source": [
    "X_test = digits.images[1348:1797]\n",
    "y_test = digits.target[1348:1797]\n",
    "\n",
    "score = nn.score(X_test, y_test)\n",
    "score"
   ]
  },
  {
   "cell_type": "code",
   "execution_count": null,
   "metadata": {
    "collapsed": true
   },
   "outputs": [],
   "source": []
  },
  {
   "cell_type": "code",
   "execution_count": null,
   "metadata": {
    "collapsed": true
   },
   "outputs": [],
   "source": []
  }
 ],
 "metadata": {
  "kernelspec": {
   "display_name": "Python 3",
   "language": "python",
   "name": "python3"
  },
  "language_info": {
   "codemirror_mode": {
    "name": "ipython",
    "version": 3
   },
   "file_extension": ".py",
   "mimetype": "text/x-python",
   "name": "python",
   "nbconvert_exporter": "python",
   "pygments_lexer": "ipython3",
   "version": "3.4.0"
  }
 },
 "nbformat": 4,
 "nbformat_minor": 0
}
