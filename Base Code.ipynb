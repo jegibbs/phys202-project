{
 "cells": [
  {
   "cell_type": "code",
   "execution_count": 1,
   "metadata": {
    "collapsed": false
   },
   "outputs": [
    {
     "name": "stderr",
     "output_type": "stream",
     "text": [
      ":0: FutureWarning: IPython widgets are experimental and may change in the future.\n"
     ]
    }
   ],
   "source": [
    "%matplotlib inline\n",
    "import matplotlib.pyplot as plt\n",
    "from IPython.html.widgets import interact\n",
    "from sklearn.datasets import load_digits\n",
    "digits = load_digits()\n",
    "import numpy as np"
   ]
  },
  {
   "cell_type": "code",
   "execution_count": 60,
   "metadata": {
    "collapsed": false
   },
   "outputs": [],
   "source": [
    "\"\"\"split digits into training and test sets with 50/50 ratio\"\"\"\n",
    "training_set = range(0,1797,2)  #all even indices\n",
    "test_set = [n for n in range(0,1797) if n not in training_set]  #all odd indices"
   ]
  },
  {
   "cell_type": "code",
   "execution_count": 61,
   "metadata": {
    "collapsed": true
   },
   "outputs": [],
   "source": [
    "\"\"\"use training set to find average array for each number\"\"\"\n",
    "def average_array(n): \n",
    "    count=0\n",
    "    narray=np.zeros((8,8))\n",
    "    for i in training_set:\n",
    "        if digits.target[i] == n:\n",
    "            count+=1\n",
    "            narray+=digits.images[i]\n",
    "    return narray/count"
   ]
  },
  {
   "cell_type": "code",
   "execution_count": 62,
   "metadata": {
    "collapsed": true
   },
   "outputs": [],
   "source": [
    "\"\"\"name and save each array\"\"\"\n",
    "zero=average_array(0)\n",
    "one=average_array(1)\n",
    "two=average_array(2)\n",
    "three=average_array(3)\n",
    "four=average_array(4)\n",
    "five=average_array(5)\n",
    "six=average_array(6)\n",
    "seven=average_array(7)\n",
    "eight=average_array(8)\n",
    "nine=average_array(9)"
   ]
  },
  {
   "cell_type": "code",
   "execution_count": 63,
   "metadata": {
    "collapsed": true
   },
   "outputs": [],
   "source": [
    " \"\"\"-subtract unknown digit from average array, sum all numbers in array (perfect match would equal zero)\n",
    "    -do this for each possible digit\n",
    "    -choose digit with lowest outcome\"\"\"\n",
    "def guess_number(i):\n",
    "    a = [zero,one,two,three,four,five,six,seven,eight,nine]\n",
    "    guess = {n:np.sum(abs(np.subtract(a[n],digits.images[i]))) for n in range(10)}\n",
    "    return min(guess, key=guess.get)"
   ]
  },
  {
   "cell_type": "code",
   "execution_count": 64,
   "metadata": {
    "collapsed": false
   },
   "outputs": [
    {
     "name": "stdout",
     "output_type": "stream",
     "text": [
      "Accuracy = 89.19821826280624%\n"
     ]
    }
   ],
   "source": [
    "\"\"\"calculate accuracy\"\"\"\n",
    "count = 0\n",
    "for i in range(1,1797,2):\n",
    "    if guess_number(i) == digits.target[i]:\n",
    "        count+=1\n",
    "        \n",
    "print('Accuracy = ' + str(count/len(range(1,1797,2))*100) + '%' )"
   ]
  }
 ],
 "metadata": {
  "kernelspec": {
   "display_name": "Python 3",
   "language": "python",
   "name": "python3"
  },
  "language_info": {
   "codemirror_mode": {
    "name": "ipython",
    "version": 3
   },
   "file_extension": ".py",
   "mimetype": "text/x-python",
   "name": "python",
   "nbconvert_exporter": "python",
   "pygments_lexer": "ipython3",
   "version": "3.4.0"
  }
 },
 "nbformat": 4,
 "nbformat_minor": 0
}
